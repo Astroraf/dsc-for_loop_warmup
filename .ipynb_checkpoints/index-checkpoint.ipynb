{
 "cells": [
  {
   "cell_type": "markdown",
   "metadata": {},
   "source": [
    "This morning we will practice **for loops**.  For loops are a fundamental skill all programmers need to master.  They allow us to move cycle through each item of an iterable.  \n",
    "\n",
    "An iterable is:\n",
    "\n",
    "> An object capable of returning its members one at a time. Examples of iterables include all sequence types (such as list, str, and tuple) and some non-sequence types like dict...\n",
    "\n",
    "> Iterables can be used in a for loop and in many other places where a sequence is needed (zip(), map(), …).\n",
    "\n",
    "[source](https://docs.python.org/3/glossary.html)"
   ]
  },
  {
   "cell_type": "markdown",
   "metadata": {},
   "source": [
    "For this exercise, you will import a dataset about air quality in Brooklyn.  The data was gathered using the [Open Air Quality API](https://openaq.org/#/?_k=7pqqwf).  \n",
    "\n",
    "The data is stored in two lists each filled with 10000 items. \n",
    "\n",
    "  - `measurements` holds daily measures of pm25 (particulate matter) readings in µg/m3.  \n",
    "  - `dates` holds the corresponding timestamps of when a measurement was taken.\n",
    "  "
   ]
  },
  {
   "cell_type": "code",
   "execution_count": null,
   "metadata": {},
   "outputs": [],
   "source": [
    "# Run this cell with no changes\n",
    "import pickle\n",
    "import numpy as np\n",
    "import pandas as pd\n",
    "\n",
    "with open('data/brooklyn.p','rb') as read_file:\n",
    "    dates, measurements = pickle.load(read_file)"
   ]
  },
  {
   "cell_type": "markdown",
   "metadata": {},
   "source": [
    "The indices align.  In other words, `dates[0]` holds the timestamp for `measurements[0]`."
   ]
  },
  {
   "cell_type": "code",
   "execution_count": null,
   "metadata": {},
   "outputs": [],
   "source": [
    "len(dates) == len(measurements)"
   ]
  },
  {
   "cell_type": "markdown",
   "metadata": {},
   "source": [
    "The short-term standard (24-hour or daily average) is 35 micrograms per cubic meter of air (µg/m3) \n",
    "[source](https://www.health.ny.gov/environmental/indoors/air/pmq_a.htm)"
   ]
  },
  {
   "cell_type": "markdown",
   "metadata": {},
   "source": [
    "# Task 1\n",
    "\n",
    "> Using a `for loop`, count how often Brooklyn air quality is above the safe level.\n"
   ]
  },
  {
   "cell_type": "code",
   "execution_count": null,
   "metadata": {},
   "outputs": [],
   "source": [
    "# your code here"
   ]
  },
  {
   "cell_type": "code",
   "execution_count": null,
   "metadata": {},
   "outputs": [],
   "source": [
    "#__SOLUTION__\n",
    "# Using a for loop, count how often the Brooklyn Air Quality is above the safe level\n",
    "\n",
    "count = 0\n",
    "for measurement in measurements:\n",
    "    if measurement >= 35:\n",
    "        count += 1\n",
    "        \n",
    "count"
   ]
  },
  {
   "cell_type": "markdown",
   "metadata": {},
   "source": [
    "# Task 2\n",
    "\n",
    "> Using a for loop, find the maximum measurement of pm25 in the dataset.\n"
   ]
  },
  {
   "cell_type": "code",
   "execution_count": null,
   "metadata": {},
   "outputs": [],
   "source": [
    "# Your answer here\n",
    "max_pm25 = None"
   ]
  },
  {
   "cell_type": "code",
   "execution_count": null,
   "metadata": {},
   "outputs": [],
   "source": [
    "#__SOLUTION__\n",
    "\n",
    "max_pm25 = 0\n",
    "\n",
    "for measurement in measurements:\n",
    "    if measurement > max_pm25:\n",
    "        max_pm25 = measurement\n",
    "\n"
   ]
  },
  {
   "cell_type": "code",
   "execution_count": null,
   "metadata": {},
   "outputs": [],
   "source": [
    "# Run this cell. \n",
    "assert(max_pm25==max(measurements))\n",
    "\n",
    "# If you assigned the incorrect value to the max_pm variable, you will receive an error message\n",
    "print('Correct')"
   ]
  },
  {
   "cell_type": "markdown",
   "metadata": {},
   "source": [
    "# Task 3\n",
    "\n",
    "> Using a for loop, find the minimum measurement of pm25\n"
   ]
  },
  {
   "cell_type": "code",
   "execution_count": null,
   "metadata": {},
   "outputs": [],
   "source": [
    "# your code here\n",
    "\n",
    "min_pm25 = None"
   ]
  },
  {
   "cell_type": "code",
   "execution_count": null,
   "metadata": {},
   "outputs": [],
   "source": [
    "#__SOLUTION__\n",
    "# Find the minimum reading of pm25\n",
    "min_pm25 = max_pm25\n",
    "\n",
    "for measurement in measurements:\n",
    "    if measurement < min_pm25:\n",
    "        min_pm25 = measurement\n",
    "\n"
   ]
  },
  {
   "cell_type": "code",
   "execution_count": null,
   "metadata": {},
   "outputs": [],
   "source": [
    "# Check here\n",
    "assert(min_pm25 == min(measurements))\n",
    "print('Correct')"
   ]
  },
  {
   "cell_type": "markdown",
   "metadata": {},
   "source": [
    "# Task 4"
   ]
  },
  {
   "cell_type": "markdown",
   "metadata": {},
   "source": [
    "Each date in the dates list is a Timestamp object."
   ]
  },
  {
   "cell_type": "code",
   "execution_count": null,
   "metadata": {},
   "outputs": [],
   "source": [
    "type(dates[0])"
   ]
  },
  {
   "cell_type": "markdown",
   "metadata": {},
   "source": [
    "For each date, we can find the day of the week by calling the method day_name like so:\n",
    "\n",
    "`date.day_name()`\n",
    "\n",
    "With a for loop, create a list of the names of the days of the week for every entry."
   ]
  },
  {
   "cell_type": "code",
   "execution_count": null,
   "metadata": {},
   "outputs": [],
   "source": [
    "# Your code here\n",
    "day_of_week = None\n"
   ]
  },
  {
   "cell_type": "code",
   "execution_count": null,
   "metadata": {},
   "outputs": [],
   "source": [
    "#__SOLUTION__\n",
    "day_of_week = []\n",
    "\n",
    "for date in dates:\n",
    "    day_of_week.append(date.day_name())\n"
   ]
  },
  {
   "cell_type": "code",
   "execution_count": null,
   "metadata": {},
   "outputs": [],
   "source": [
    "assert(day_of_week[0] == 'Thursday')\n",
    "print('Correct')"
   ]
  },
  {
   "cell_type": "markdown",
   "metadata": {},
   "source": [
    "# Task 5"
   ]
  },
  {
   "cell_type": "markdown",
   "metadata": {},
   "source": [
    "The `zip` built-in function allows us to iterate through two lists at the same time. "
   ]
  },
  {
   "cell_type": "code",
   "execution_count": null,
   "metadata": {},
   "outputs": [],
   "source": [
    "zip?"
   ]
  },
  {
   "cell_type": "markdown",
   "metadata": {},
   "source": [
    "Using a for loop and zip, create a dictionary using a for loop whose key is the date and value is the pm25 measurement.\n"
   ]
  },
  {
   "cell_type": "code",
   "execution_count": null,
   "metadata": {},
   "outputs": [],
   "source": [
    "# Your code here\n",
    "date_measurement = None\n",
    "\n"
   ]
  },
  {
   "cell_type": "code",
   "execution_count": null,
   "metadata": {},
   "outputs": [],
   "source": [
    "#__SOLUTION__\n",
    "\n",
    "date_measurement = {}\n",
    "\n",
    "for date, pm25 in zip(dates, measurements):\n",
    "    date_measurement[date] = pm25\n",
    "\n",
    "date_measurement"
   ]
  },
  {
   "cell_type": "code",
   "execution_count": null,
   "metadata": {},
   "outputs": [],
   "source": [
    "assert(date_measurement[list(date_measurement.keys())[0]] == 1.6)\n",
    "print('Correct')"
   ]
  },
  {
   "cell_type": "markdown",
   "metadata": {},
   "source": [
    "# Task 6\n",
    "Find the average reading on each day of the week using whatever technique you care to choose."
   ]
  },
  {
   "cell_type": "code",
   "execution_count": null,
   "metadata": {},
   "outputs": [],
   "source": [
    "# Your code here"
   ]
  },
  {
   "cell_type": "code",
   "execution_count": null,
   "metadata": {},
   "outputs": [],
   "source": []
  },
  {
   "cell_type": "code",
   "execution_count": null,
   "metadata": {},
   "outputs": [],
   "source": [
    "#__SOLUTION__\n",
    "\n",
    "for week_day in set(day_of_week):\n",
    "    \n",
    "    day_cumulative = 0\n",
    "    count = 0\n",
    "    \n",
    "    for day, measurement in zip(day_of_week, measurements):\n",
    "        if week_day == day:\n",
    "            day_cumulative += measurement\n",
    "            count += 1\n",
    "    \n",
    "    print(week_day, day_cumulative/count)"
   ]
  },
  {
   "cell_type": "markdown",
   "metadata": {},
   "source": [
    "# Bonus\n",
    "Unlike lists and tuples, dictionaries are not ordered.  However, there are ways to sort dictionaries. Google how to sort a dictionary, and find the dates of the top 5 worst air-quality readings in Brooklyn."
   ]
  },
  {
   "cell_type": "code",
   "execution_count": null,
   "metadata": {},
   "outputs": [],
   "source": [
    "# Your code here\n",
    "airquality_sorted = None"
   ]
  },
  {
   "cell_type": "code",
   "execution_count": null,
   "metadata": {},
   "outputs": [],
   "source": [
    "#__SOLUTION__\n",
    "# Choose whichever method you would like to find the dates of the top 5 worst air-quality readings in Brooklyn\n",
    "# as given in the list\n",
    "\n",
    "airquality_sorted = dict(sorted(date_measurement.items(), key=lambda x: x[1], reverse=True)[:5])"
   ]
  },
  {
   "cell_type": "code",
   "execution_count": null,
   "metadata": {},
   "outputs": [],
   "source": [
    "assert(list(airquality_sorted.values())) == [55.4, 54.7, 53.3, 47.5, 44]\n",
    "print('Correct')"
   ]
  },
  {
   "cell_type": "code",
   "execution_count": null,
   "metadata": {},
   "outputs": [],
   "source": []
  }
 ],
 "metadata": {
  "kernelspec": {
   "display_name": "learn-env_3",
   "language": "python",
   "name": "learn-env_3"
  },
  "language_info": {
   "codemirror_mode": {
    "name": "ipython",
    "version": 3
   },
   "file_extension": ".py",
   "mimetype": "text/x-python",
   "name": "python",
   "nbconvert_exporter": "python",
   "pygments_lexer": "ipython3",
   "version": "3.8.5"
  }
 },
 "nbformat": 4,
 "nbformat_minor": 4
}
